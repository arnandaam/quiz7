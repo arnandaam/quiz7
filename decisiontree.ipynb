{
  "nbformat": 4,
  "nbformat_minor": 0,
  "metadata": {
    "colab": {
      "name": "decisiontree",
      "provenance": []
    },
    "kernelspec": {
      "name": "python3",
      "display_name": "Python 3"
    },
    "language_info": {
      "name": "python"
    }
  },
  "cells": [
    {
      "cell_type": "code",
      "metadata": {
        "id": "IN_72DDetcRq"
      },
      "source": [
        "import numpy as np\n",
        "import pandas as pd\n",
        "from sklearn import tree"
      ],
      "execution_count": 37,
      "outputs": []
    },
    {
      "cell_type": "code",
      "metadata": {
        "id": "Gf-0vFRUw2sj"
      },
      "source": [
        "companyDataset = pd.read_csv('klasifikasi_dataset_company.csv',delimiter=';', header=0)\n"
      ],
      "execution_count": 38,
      "outputs": []
    },
    {
      "cell_type": "code",
      "metadata": {
        "id": "lZQonRwqOFzA"
      },
      "source": [
        "companyDataset[\"Jenis\"] = pd.factorize(companyDataset.Jenis)[0]"
      ],
      "execution_count": 39,
      "outputs": []
    },
    {
      "cell_type": "code",
      "metadata": {
        "id": "0cadq9-TQk6T"
      },
      "source": [
        "companyDataset = companyDataset.drop(labels=\"Id\", axis=1)"
      ],
      "execution_count": 40,
      "outputs": []
    },
    {
      "cell_type": "code",
      "metadata": {
        "id": "wIT_x9M1RMpZ"
      },
      "source": [
        "companyDataset = companyDataset.to_numpy()"
      ],
      "execution_count": 41,
      "outputs": []
    },
    {
      "cell_type": "code",
      "metadata": {
        "id": "4Ji83_ZPRttI"
      },
      "source": [
        "dataTraining = np.concatenate((companyDataset[0:40,:],\n",
        "                               companyDataset[50:90,:]), axis=0)\n",
        "dataTesting = np.concatenate((companyDataset[40:50,:],\n",
        "                               companyDataset[90:100,:]), axis=0)"
      ],
      "execution_count": 42,
      "outputs": []
    },
    {
      "cell_type": "code",
      "metadata": {
        "id": "8EProAojSWWF"
      },
      "source": [
        "inputTraining = dataTraining[:,0:4]\n",
        "inputTesting = dataTesting[:,0:4]\n",
        "labelTraining = dataTraining[:,4]\n",
        "labelTesting = dataTesting[:, 4]"
      ],
      "execution_count": 43,
      "outputs": []
    },
    {
      "cell_type": "code",
      "metadata": {
        "id": "T6QX-NQNT_gl"
      },
      "source": [
        "model = tree.DecisionTreeClassifier()"
      ],
      "execution_count": 44,
      "outputs": []
    },
    {
      "cell_type": "code",
      "metadata": {
        "id": "oc1zy-s3UQ6x"
      },
      "source": [
        "model = model.fit(inputTraining, labelTraining)"
      ],
      "execution_count": 45,
      "outputs": []
    },
    {
      "cell_type": "code",
      "metadata": {
        "colab": {
          "base_uri": "https://localhost:8080/"
        },
        "id": "5gn21y1zUc7O",
        "outputId": "6fc9c044-267f-430b-a7a6-7af2548f8dd5"
      },
      "source": [
        "hasilPrediksi = model.predict(inputTesting)\n",
        "print(\"label sebenarnya \", labelTesting)\n",
        "print(\"hasil prediksi: \", hasilPrediksi)\n",
        "prediksiBenar = (hasilPrediksi == labelTesting).sum()\n",
        "prediksiSalah = (hasilPrediksi != labelTesting).sum()\n",
        "print(\"prediksi benar: \", prediksiBenar, \" data\")\n",
        "print(\"prediksi salah: \", prediksiSalah, \" data\")\n",
        "print(\"akurasi: \", prediksiBenar/(prediksiBenar+prediksiSalah)\n",
        "      * 100, \"%\")"
      ],
      "execution_count": 46,
      "outputs": [
        {
          "output_type": "stream",
          "text": [
            "label sebenarnya  [0. 0. 0. 0. 0. 0. 0. 0. 0. 0. 1. 1. 1. 1. 1. 1. 1. 1. 1. 1.]\n",
            "hasil prediksi:  [0. 0. 0. 0. 0. 0. 0. 0. 0. 0. 1. 1. 1. 1. 0. 1. 1. 1. 1. 1.]\n",
            "prediksi benar:  19  data\n",
            "prediksi salah:  1  data\n",
            "akurasi:  95.0 %\n"
          ],
          "name": "stdout"
        }
      ]
    }
  ]
} 
